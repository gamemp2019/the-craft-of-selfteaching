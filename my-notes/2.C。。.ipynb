{
 "cells": [
  {
   "cell_type": "markdown",
   "metadata": {},
   "source": [
    "#### p2,c，why start from writting functions"
   ]
  },
  {
   "cell_type": "markdown",
   "metadata": {},
   "source": [
    "### 为什么从函数开始？\n",
    "\n",
    "我们总是先学会阅读，而后才开始练习写作；并且，最终，阅读的量一定远远大于写作的量 —— 即，输入远远大于输出。\n",
    "\n",
    "所以，正常情况下，输入多于输出，或者，输入远远多于输出，不仅是自然现象，也是无法改变的规则。\n",
    "\n",
    "为什么从函数开始？\n",
    "\n",
    "从现代编程方法论来看，“写作” 部分一上来就从函数入手也的确是 “更正确” 的，因为结构化编程的核心就是拆分任务，把任务拆分到不能再拆分为止 —— 什么时候不能再拆分了呢？就是当一个函数只完成一个功能的时候……\n"
   ]
  },
  {
   "cell_type": "markdown",
   "metadata": {},
   "source": [
    "#### p2,d,1 args.\n",
    "\n",
    "### 关于参数（上）\n",
    "\n",
    "#### 为函数取名\n",
    "\n",
    "定义一个函数的关键字是`def`\n",
    "\n",
    "为函数取名（为变量取名也一样）有些基本的注意事项：\n",
    "\n",
    "> - 首先，名称不能以数字开头。能用在名称开头的有，大小写字母和下划线 `_`；\n",
    "> \n",
    "> - 其次，名称中不能有空格，要么使用下划线连接词汇，如，`do_nothing`，要么使用 [Camel Case](https://en.wikipedia.org/wiki/Camel_case)，如 `doNothing` —— 更推荐使用下划线；\n",
    "> \n",
    "> - 再次，名称不能与关键字重合 —— 以下是 Python 的 Keyword List：\n",
    "\n",
    "|     -      | Python     | Keyword    | List       |     -      |\n",
    "| ---------- | ---------- | ---------- | ---------- | ---------- |\n",
    "| `and`      | `as`       | `assert`   | `async`    | `await`    |\n",
    "| `break`    | `class`    | `continue` | `def`      | `del`      |\n",
    "| `elif`     | `else`     | `except`   | `False`    | `finally`  |\n",
    "| `for`      | `from`     | `global`   | `if`       | `import`   |\n",
    "| `in`       | `is`       | `lambda`   | `None`     | `nonlocal` |\n",
    "| `not`      | `or`       | `pass`     | `raise`    | `return`   |\n",
    "| `True`     | `try`      | `while`    | `with`     | `yield`    |\n",
    "\n",
    "#### 函数可以没有参数，没有return\n",
    "\n",
    "如果没有函数内部没有定义返回值，那么该函数的返回值是`None`,当`None`被当作布尔值对待的时候，相当于是`False`。\n",
    "这样，函数的调用总是可以在条件语句中被当作判断依据。\n",
    "\n",
    "#### 函数内的变量是“局部变量”\n",
    "\n",
    "函数内部的变量是局部变量，与外部的全局变量不冲突，哪怕名称是相同的，函数结束后，外部变量不会变；\n",
    "\n",
    "需要注意的是可变容器（比如，列表），它在函数中做了改变之后，它本身就会改变。所以如果不想将其改变的话，在函数内部处理时先创建它的拷贝`a_capy = a.copy()`\n",
    "\n"
   ]
  }
 ],
 "metadata": {
  "kernelspec": {
   "display_name": "Python 3",
   "language": "python",
   "name": "python3"
  },
  "language_info": {
   "codemirror_mode": {
    "name": "ipython",
    "version": 3
   },
   "file_extension": ".py",
   "mimetype": "text/x-python",
   "name": "python",
   "nbconvert_exporter": "python",
   "pygments_lexer": "ipython3",
   "version": "3.7.3"
  }
 },
 "nbformat": 4,
 "nbformat_minor": 2
}
